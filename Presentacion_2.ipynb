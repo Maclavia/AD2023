{
  "nbformat": 4,
  "nbformat_minor": 0,
  "metadata": {
    "colab": {
      "provenance": [],
      "authorship_tag": "ABX9TyM6fKr6+4BxSHkMYKS7ZYZd",
      "include_colab_link": true
    },
    "kernelspec": {
      "name": "python3",
      "display_name": "Python 3"
    },
    "language_info": {
      "name": "python"
    }
  },
  "cells": [
    {
      "cell_type": "markdown",
      "metadata": {
        "id": "view-in-github",
        "colab_type": "text"
      },
      "source": [
        "<a href=\"https://colab.research.google.com/github/Maclavia/AD2023/blob/main/Presentacion_2.ipynb\" target=\"_parent\"><img src=\"https://colab.research.google.com/assets/colab-badge.svg\" alt=\"Open In Colab\"/></a>"
      ]
    },
    {
      "cell_type": "code",
      "execution_count": null,
      "metadata": {
        "colab": {
          "base_uri": "https://localhost:8080/"
        },
        "id": "D0-g7VCh3GXY",
        "outputId": "ac331b26-5240-4fd1-d786-4d2f21b4d33d"
      },
      "outputs": [
        {
          "output_type": "stream",
          "name": "stdout",
          "text": [
            "_____________________________________________________\n",
            "Ejemplo2: IMPRIMIR EL MENOR DE DOS NÚMEROS.\n",
            "_____________________________________________________\n",
            "Ingrese 2 números:\n",
            "Primer Número: 5\n",
            "Segundo Número:8\n",
            "\n",
            "SALIDA:\n",
            "_____________________________________________________\n",
            "El menor es: 5\n"
          ]
        }
      ],
      "source": [
        "#Decoración: Nombre del Algoritmo\n",
        "print(\"_____________________________________________________\")\n",
        "print(\"Ejemplo2: IMPRIMIR EL MENOR DE DOS NÚMEROS.\")\n",
        "print(\"_____________________________________________________\")\n",
        "#Entradas\n",
        "print(\"Ingrese 2 números:\")\n",
        "x = int( input(\"Primer Número:\"))\n",
        "y = int( input(\"Segundo Número:\"))\n",
        "print(\"\\nSALIDA:\")\n",
        "print(\"_____________________________________________________\")\n",
        "#NOTA: No olvidarse de las indentación. \n",
        "if x > y:\n",
        "#Esto esta dentro del IF \n",
        "  print (\"El menor es:\", y)\n",
        "else:\n",
        "#Esto esta dentro del ELSE\n",
        "  print(\"El menor es:\", x)"
      ]
    },
    {
      "cell_type": "markdown",
      "source": [
        "Ejercicio #2"
      ],
      "metadata": {
        "id": "UlbpHO4S53X6"
      }
    },
    {
      "cell_type": "markdown",
      "source": [
        "Ejercicio #3"
      ],
      "metadata": {
        "id": "CZfQqV9L7SIe"
      }
    },
    {
      "cell_type": "code",
      "source": [
        "switcher={1: \"Enero\", 2: \"Febrero\", 3: \"'Marzo\", 4:\" Abri\", 5:\" Mano\", 6:\"'Junio\", 7: \"Julio\", 8: \"Agosto\", 9: \"septiembre\", 10: \"Octubre\", 11:\"Noviembre\", 12: \"Diciembre\"}\n",
        "argument=int(input(\"Ingrese un número:\"))\n",
        "nameMes=switcher.get(argument,\"Mes invälido\")\n",
        "print(nameMes)"
      ],
      "metadata": {
        "colab": {
          "base_uri": "https://localhost:8080/"
        },
        "id": "LYkXfgNZ7UWz",
        "outputId": "cbd1e7f4-ce59-4bf2-e219-496e8c76ec72"
      },
      "execution_count": null,
      "outputs": [
        {
          "output_type": "stream",
          "name": "stdout",
          "text": [
            "Ingrese un número:8\n",
            "Agosto\n"
          ]
        }
      ]
    }
  ]
}