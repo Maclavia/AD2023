{
  "nbformat": 4,
  "nbformat_minor": 0,
  "metadata": {
    "colab": {
      "provenance": [],
      "authorship_tag": "ABX9TyMjPWIHqoGqNaVQkBaKNIxS",
      "include_colab_link": true
    },
    "kernelspec": {
      "name": "python3",
      "display_name": "Python 3"
    },
    "language_info": {
      "name": "python"
    }
  },
  "cells": [
    {
      "cell_type": "markdown",
      "metadata": {
        "id": "view-in-github",
        "colab_type": "text"
      },
      "source": [
        "<a href=\"https://colab.research.google.com/github/Maclavia/AD2023/blob/main/Video_Tarea.ipynb\" target=\"_parent\"><img src=\"https://colab.research.google.com/assets/colab-badge.svg\" alt=\"Open In Colab\"/></a>"
      ]
    },
    {
      "cell_type": "code",
      "execution_count": 7,
      "metadata": {
        "colab": {
          "base_uri": "https://localhost:8080/"
        },
        "id": "XijkmqA6chXp",
        "outputId": "447e4af1-c1b4-4d4b-de41-9df035203eb9"
      },
      "outputs": [
        {
          "output_type": "stream",
          "name": "stdout",
          "text": [
            "Ejercicio bisiesto\n",
            "Ingrese el año: 2020\n",
            "El año no es bisiesto\n"
          ]
        }
      ],
      "source": [
        "print (\"Ejercicio bisiesto\")\n",
        "anio=int(input(\"Ingrese el año: \"))\n",
        "if(anio % 400==0) or (anio % 4 == 0) and (anio % 100 !=0):\n",
        "  print(\"El año no es bisiesto\")"
      ]
    },
    {
      "cell_type": "code",
      "source": [
        "switcher={1:\"Enero\", 2:\"febrero\", 3:\"Marzo\", 4:\"Abril\", 5:\"Mayo\", 6:\"Junio\", 7:\"Julio\", 8:\"Agosto\", 9:\"Septiembre\", 10:\"Octubre\", 11:\"Noviembre\", 12:\"Diciembre\"}\n",
        "argument=int(input(\"Ingrese un número: \"))\n",
        "nameMes=switcher.get(argument,\"Mes inválido\")\n",
        "print(nameMes)"
      ],
      "metadata": {
        "id": "D2p51I_5cqpj"
      },
      "execution_count": null,
      "outputs": []
    },
    {
      "cell_type": "code",
      "source": [
        "#creacion de variables\n",
        "C=-1\n",
        "I=0\n",
        "M=0\n",
        "while(C < 0) or (I <= 0) or (I >= 100) or (M <= 0):\n",
        "  print(\"Introduce el capital, el interes y el tiempo apropiados\")\n",
        "  C=int(input(\"Capital: \"))\n",
        "  I=int(input(\"Interes: \"))\n",
        "  A=int(input(\"Tiempo en años: \"))\n",
        "\n",
        "for i in range(M):\n",
        "  C=C*(1+I/100)\n",
        "  print(\"Monto\", C, \"Colones\")"
      ],
      "metadata": {
        "id": "vctore2dcrYw"
      },
      "execution_count": null,
      "outputs": []
    },
    {
      "cell_type": "code",
      "source": [
        "print(\"Digite un numero: \")\n",
        "numero=int(input(\"Numero: \"))\n",
        "\n",
        "suma=0\n",
        "for i in range(1, numero+1):\n",
        "    if(numero % i==0):\n",
        "      suma=suma+i\n",
        "print(suma)"
      ],
      "metadata": {
        "colab": {
          "base_uri": "https://localhost:8080/"
        },
        "id": "32BLtLvHcwi5",
        "outputId": "84844595-94ca-4726-e411-b16a999ecac0"
      },
      "execution_count": 8,
      "outputs": [
        {
          "output_type": "stream",
          "name": "stdout",
          "text": [
            "Digite un numero: \n",
            "Numero: 20\n",
            "42\n"
          ]
        }
      ]
    }
  ]
}