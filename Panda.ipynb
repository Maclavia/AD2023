{
  "nbformat": 4,
  "nbformat_minor": 0,
  "metadata": {
    "colab": {
      "provenance": [],
      "authorship_tag": "ABX9TyOXQerIzW2gxl/ENyVQJMKp",
      "include_colab_link": true
    },
    "kernelspec": {
      "name": "python3",
      "display_name": "Python 3"
    },
    "language_info": {
      "name": "python"
    }
  },
  "cells": [
    {
      "cell_type": "markdown",
      "metadata": {
        "id": "view-in-github",
        "colab_type": "text"
      },
      "source": [
        "<a href=\"https://colab.research.google.com/github/Maclavia/AD2023/blob/main/Panda.ipynb\" target=\"_parent\"><img src=\"https://colab.research.google.com/assets/colab-badge.svg\" alt=\"Open In Colab\"/></a>"
      ]
    },
    {
      "cell_type": "code",
      "execution_count": null,
      "metadata": {
        "colab": {
          "base_uri": "https://localhost:8080/"
        },
        "id": "4-b-AJTMWHsl",
        "outputId": "e6271fbe-6e50-43e2-ddbe-bf75c31414fe"
      },
      "outputs": [
        {
          "output_type": "stream",
          "name": "stdout",
          "text": [
            "      Country    Capital  Population\n",
            "0  Costa Rica   San José     4500000\n",
            "1       India  New Delhi  1303171035\n",
            "2      Brazil   Brasilia   207847528\n"
          ]
        }
      ],
      "source": [
        "import pandas as pd\n",
        "data={'Country':['Costa Rica', 'India','Brazil'],\n",
        "'Capital': ['San José','New Delhi','Brasilia'],\n",
        "'Population':[4500000, 1303171035, 207847528]}\n",
        "df=pd.DataFrame(data,columns=['Country','Capital', 'Population'])\n",
        "print(df)\n"
      ]
    },
    {
      "cell_type": "code",
      "source": [
        "print(\"Promedio de los elementos del vector\")\n",
        "Suma=0\n",
        "Media=0\n",
        "Temp=[]\n",
        "print(\"Ingrese cantidad de Temperaturas\")\n",
        "N=int(input())\n",
        "for i in range(N):\n",
        "  temperatura=float(input(\"Ingrese la temperatura\"))\n",
        "  Temp.append(temperatura)\n",
        "  Suma=Suma+Temp[i]\n",
        "Media=Suma/N\n",
        "print(Media)"
      ],
      "metadata": {
        "colab": {
          "base_uri": "https://localhost:8080/"
        },
        "id": "r5yrT0FdYto2",
        "outputId": "128060f8-271b-4d6c-bc2b-132491e87891"
      },
      "execution_count": null,
      "outputs": [
        {
          "output_type": "stream",
          "name": "stdout",
          "text": [
            "Promedio de los elementos del vector\n",
            "Ingrese cantidad de Temperaturas\n",
            "2\n",
            "Ingrese la temperatura22\n",
            "Ingrese la temperatura45\n",
            "33.5\n"
          ]
        }
      ]
    },
    {
      "cell_type": "code",
      "source": [
        "from sqlalchemy.sql.expression import false\n",
        "import pandas as pd\n",
        "mascota = pd.DataFrame(\n",
        "  data = {\n",
        "    'name':['Minino', 'Milo','Snoppy', 'Blanco', 'LittlePony'],\n",
        "    'type':['gato', 'perro', 'perro', 'perro', 'caballo']\n",
        "  },\n",
        "  index=[71, 42, 11, 98, 42]\n",
        ")\n",
        "\n",
        "visitas= pd.DataFrame(\n",
        "    data = {\n",
        "        'pet_id':[42, 31, 71, 42, 98, 42],\n",
        "        'fecha':['2019-03-15', '2019-03-15', '2019-04-05', '2019-04-06', '2019-04-12', '2019-06-17'],\n",
        "        'costo':[2000,5000,3500,8000,2500,3400]\n",
        "  }\n",
        ")\n",
        "\n",
        "mascota.index.rename('pet_id', inplace=True)\n",
        "visitas.index.rename('visit_id', inplace=True)\n",
        "\n",
        "print(mascota.query('pet_id==71'))\n",
        "print(visitas['costo'].sum())\n",
        "print(visitas['costo'].min())\n",
        "print(visitas['costo'].max())\n",
        "\n",
        "print(visitas)\n",
        "print(visitas.sort_values(by='costo', ascending=False))\n",
        "\n",
        "tienda=pd.merge(mascota,visitas,how='cross')\n",
        "print(tienda)"
      ],
      "metadata": {
        "colab": {
          "base_uri": "https://localhost:8080/"
        },
        "id": "2LoVkb5pbq5o",
        "outputId": "e7e757e8-f5fb-4e30-f192-a75ada1cd9ac"
      },
      "execution_count": null,
      "outputs": [
        {
          "output_type": "stream",
          "name": "stdout",
          "text": [
            "          name  type\n",
            "pet_id              \n",
            "71      Minino  gato\n",
            "24400\n",
            "2000\n",
            "8000\n",
            "          pet_id       fecha  costo\n",
            "visit_id                           \n",
            "0             42  2019-03-15   2000\n",
            "1             31  2019-03-15   5000\n",
            "2             71  2019-04-05   3500\n",
            "3             42  2019-04-06   8000\n",
            "4             98  2019-04-12   2500\n",
            "5             42  2019-06-17   3400\n",
            "          pet_id       fecha  costo\n",
            "visit_id                           \n",
            "3             42  2019-04-06   8000\n",
            "1             31  2019-03-15   5000\n",
            "2             71  2019-04-05   3500\n",
            "5             42  2019-06-17   3400\n",
            "4             98  2019-04-12   2500\n",
            "0             42  2019-03-15   2000\n",
            "          name     type  pet_id       fecha  costo\n",
            "0       Minino     gato      42  2019-03-15   2000\n",
            "1       Minino     gato      31  2019-03-15   5000\n",
            "2       Minino     gato      71  2019-04-05   3500\n",
            "3       Minino     gato      42  2019-04-06   8000\n",
            "4       Minino     gato      98  2019-04-12   2500\n",
            "5       Minino     gato      42  2019-06-17   3400\n",
            "6         Milo    perro      42  2019-03-15   2000\n",
            "7         Milo    perro      31  2019-03-15   5000\n",
            "8         Milo    perro      71  2019-04-05   3500\n",
            "9         Milo    perro      42  2019-04-06   8000\n",
            "10        Milo    perro      98  2019-04-12   2500\n",
            "11        Milo    perro      42  2019-06-17   3400\n",
            "12      Snoppy    perro      42  2019-03-15   2000\n",
            "13      Snoppy    perro      31  2019-03-15   5000\n",
            "14      Snoppy    perro      71  2019-04-05   3500\n",
            "15      Snoppy    perro      42  2019-04-06   8000\n",
            "16      Snoppy    perro      98  2019-04-12   2500\n",
            "17      Snoppy    perro      42  2019-06-17   3400\n",
            "18      Blanco    perro      42  2019-03-15   2000\n",
            "19      Blanco    perro      31  2019-03-15   5000\n",
            "20      Blanco    perro      71  2019-04-05   3500\n",
            "21      Blanco    perro      42  2019-04-06   8000\n",
            "22      Blanco    perro      98  2019-04-12   2500\n",
            "23      Blanco    perro      42  2019-06-17   3400\n",
            "24  LittlePony  caballo      42  2019-03-15   2000\n",
            "25  LittlePony  caballo      31  2019-03-15   5000\n",
            "26  LittlePony  caballo      71  2019-04-05   3500\n",
            "27  LittlePony  caballo      42  2019-04-06   8000\n",
            "28  LittlePony  caballo      98  2019-04-12   2500\n",
            "29  LittlePony  caballo      42  2019-06-17   3400\n"
          ]
        }
      ]
    },
    {
      "cell_type": "code",
      "source": [
        "import pandas as pd\n",
        "\n",
        "students = [('Ana', 23, 'San Jose', 'A'),\n",
        "          ('Esteban', 22, 'Heredia', 'B'),\n",
        "          ('Juan', 22, 'Cartago', 'A'),\n",
        "          ('Karla', 22,'Limón','A'),\n",
        "          ('Ernesto', 21, 'Heredia','B')\n",
        "          ]\n",
        "df=pd.DataFrame(students,columns=['nombre','edad', 'ciudad', 'seccion'])\n",
        "\n",
        "def getIndexes (dfObj, value) :\n",
        "  listOfPos = []\n",
        "  result = dfObj.isin([value])\n",
        "  seriesObj = result.any()\n",
        "  columnNames = list (seriesObj [seriesObj == True] .index)\n",
        "  \n",
        "  for col in columnNames:\n",
        "    rows = list (result [col] [result [col] == True] .index)\n",
        "    \n",
        "    for row in rows:\n",
        "      listOfPos.append((row, col))\n",
        "    \n",
        "  return listOfPos\n",
        "\n",
        "listOfPositions = getIndexes(df, 'A')\n",
        "\n",
        "print('Index positions of 22 in Dataframe : ')\n",
        "\n",
        "for i in range(len(listOfPositions)):\n",
        "  print( listOfPositions[i])"
      ],
      "metadata": {
        "colab": {
          "base_uri": "https://localhost:8080/"
        },
        "id": "6tvE0JKhjyBF",
        "outputId": "25724029-c65b-4f1b-a1b6-fe6fc3b4b352"
      },
      "execution_count": null,
      "outputs": [
        {
          "output_type": "stream",
          "name": "stdout",
          "text": [
            "Index positions of 22 in Dataframe : \n",
            "(0, 'seccion')\n",
            "(2, 'seccion')\n",
            "(3, 'seccion')\n"
          ]
        }
      ]
    }
  ]
}