{
  "nbformat": 4,
  "nbformat_minor": 0,
  "metadata": {
    "colab": {
      "provenance": [],
      "authorship_tag": "ABX9TyO2XipqjaHT9ULk7TGnoCt+",
      "include_colab_link": true
    },
    "kernelspec": {
      "name": "python3",
      "display_name": "Python 3"
    },
    "language_info": {
      "name": "python"
    }
  },
  "cells": [
    {
      "cell_type": "markdown",
      "metadata": {
        "id": "view-in-github",
        "colab_type": "text"
      },
      "source": [
        "<a href=\"https://colab.research.google.com/github/Maclavia/AD2023/blob/main/Presentacion_1.ipynb\" target=\"_parent\"><img src=\"https://colab.research.google.com/assets/colab-badge.svg\" alt=\"Open In Colab\"/></a>"
      ]
    },
    {
      "cell_type": "code",
      "execution_count": null,
      "metadata": {
        "colab": {
          "base_uri": "https://localhost:8080/"
        },
        "id": "9WTKKzSQL5ZD",
        "outputId": "d6057c95-fbac-481e-e23d-1e3e169c93aa"
      },
      "outputs": [
        {
          "output_type": "stream",
          "name": "stdout",
          "text": [
            "Ejercicio #1 Calcular distancia\n",
            "Ingrese la velocidad y el tiempo de la unidad movil\n",
            "Ingrese la velocidad:80\n",
            "Ingrese el tiempo:30\n",
            "La distancia es: 2400.0\n"
          ]
        }
      ],
      "source": [
        "print(\"Ejercicio #1 Calcular distancia\")\n",
        "print(\"Ingrese la velocidad y el tiempo de la unidad movil\")\n",
        "v = float(input(\"Ingrese la velocidad:\"))\n",
        "t = float(input(\"Ingrese el tiempo:\"))\n",
        "print(\"La distancia es: \"+str(v*t))"
      ]
    },
    {
      "cell_type": "markdown",
      "source": [
        "Ejercicio #2"
      ],
      "metadata": {
        "id": "mwxhHgg6OnMm"
      }
    },
    {
      "cell_type": "code",
      "source": [
        "print(\"Ejercicio #2 Promedio notas\")\n",
        "nota1 = float(input(\"Ingrese la nota 1:\"))\n",
        "nota2 = int(input(\"Ingrese la nota 2:\"))\n",
        "nota3 = int(input(\"Ingrese la nota 3:\"))\n",
        "print(\"El promedio de las notas es  es: \"+str((nota1+nota2+nota3)/3))"
      ],
      "metadata": {
        "colab": {
          "base_uri": "https://localhost:8080/"
        },
        "id": "oqZIwu0KOrcd",
        "outputId": "d8dbb071-7e25-4a11-aafe-df9821a031d6"
      },
      "execution_count": null,
      "outputs": [
        {
          "output_type": "stream",
          "name": "stdout",
          "text": [
            "Ejercicio #2 Promedio notas\n",
            "Ingrese la nota 1:75\n",
            "Ingrese la nota 2:82\n",
            "Ingrese la nota 3:91\n",
            "El promedio de las notas es  es: 82.66666666666667\n"
          ]
        }
      ]
    },
    {
      "cell_type": "markdown",
      "source": [
        "Ejercicio #3"
      ],
      "metadata": {
        "id": "2HFxjO0QPgiA"
      }
    },
    {
      "cell_type": "code",
      "source": [
        "print(\"Ejercicio #3\")\n",
        "corr = int(input(\"Ingrese correctas:\"))\n",
        "inco = int(input(\"Ingrese incorrectas:\"))\n",
        "blan = int(input(\"Ingrese blanco:\"))\n",
        "print(\"El total es: \"+str(corr*3+inco*-1))\n"
      ],
      "metadata": {
        "colab": {
          "base_uri": "https://localhost:8080/"
        },
        "id": "Xjfpbt94Pf5v",
        "outputId": "54ce0706-c224-4487-e016-214b4515ffe0"
      },
      "execution_count": null,
      "outputs": [
        {
          "output_type": "stream",
          "name": "stdout",
          "text": [
            "Ejercicio #3\n",
            "Ingrese correctas:28\n",
            "Ingrese incorrectas:13\n",
            "Ingrese blanco:2\n",
            "El total es: 71\n"
          ]
        }
      ]
    },
    {
      "cell_type": "markdown",
      "source": [
        "Ejercicio #4"
      ],
      "metadata": {
        "id": "FizXsZ9mRfd-"
      }
    },
    {
      "cell_type": "code",
      "source": [
        "print(\"Ejercicio #4\")\n",
        "Ganados = int(input(\"Digite la cantidad de partidos ganados: \"))\n",
        "Perdidos = int(input(\"Digite la cantidad de partidos perdidos: \"))\n",
        "Empatados = int(input(\"Digite la cantidad de partidos empatados: \"))\n",
        "PF = (Ganados * 3) + (0 * Perdidos) + (1 * Empatados)\n",
        "print(\"El puntaje total es de: \", PF)"
      ],
      "metadata": {
        "colab": {
          "base_uri": "https://localhost:8080/"
        },
        "id": "fLISCW07Rh9A",
        "outputId": "a373eaec-7d4c-4202-cfa6-ef3b8f25b364"
      },
      "execution_count": null,
      "outputs": [
        {
          "output_type": "stream",
          "name": "stdout",
          "text": [
            "Ejercicio #4\n",
            "Digite la cantidad de partidos ganados: 18\n",
            "Digite la cantidad de partidos perdidos: 5\n",
            "Digite la cantidad de partidos empatados: 2\n",
            "El puntaje total es de:  56\n"
          ]
        }
      ]
    },
    {
      "cell_type": "markdown",
      "source": [
        "Ejercicio #5"
      ],
      "metadata": {
        "id": "RcgMDXenR_2p"
      }
    },
    {
      "cell_type": "code",
      "source": [
        "print(\"Ejercicio #5\")\n",
        "GB = float(input(\"Digite la cantidad de GigaBytes: \"))\n",
        "MG = 1024 * GB\n",
        "MicroDiscos = MG / 1.44\n",
        "print(\"\\nEl numero de microdiscos es de: \", int(MicroDiscos))"
      ],
      "metadata": {
        "colab": {
          "base_uri": "https://localhost:8080/"
        },
        "id": "0-HaZ70QSCPT",
        "outputId": "70ab2fd7-d795-4814-db07-b902267218b1"
      },
      "execution_count": null,
      "outputs": [
        {
          "output_type": "stream",
          "name": "stdout",
          "text": [
            "Ejercicio #5\n",
            "Digite la cantidad de GigaBytes: 5\n",
            "\n",
            "El numero de microdiscos es de:  3555\n"
          ]
        }
      ]
    },
    {
      "cell_type": "markdown",
      "source": [
        "Ejercicio #6"
      ],
      "metadata": {
        "id": "WDdpKJ9WSSIT"
      }
    },
    {
      "cell_type": "code",
      "source": [
        "import math\n",
        "print(\"Ejercicio 6\")\n",
        "x1 = float(input(\"Digite el valor de x1: \"))\n",
        "x2 = float(input(\"Digite el valor de x2: \"))\n",
        "y1 = float(input(\"Digite el valor de y1: \"))\n",
        "y2 = float(input(\"Digite el valor de y2: \"))\n",
        "formula = math.sqrt((x2-x1)**2 + (y2-y1)**2)\n",
        "print(\"El valor de la distancia entre dos puntos es de: \", formula)\n"
      ],
      "metadata": {
        "colab": {
          "base_uri": "https://localhost:8080/"
        },
        "id": "LJLu-Y-PSUPR",
        "outputId": "27bfbf8f-0f45-4305-8cc2-9a56f95bcd87"
      },
      "execution_count": null,
      "outputs": [
        {
          "output_type": "stream",
          "name": "stdout",
          "text": [
            "Ejercicio 6\n",
            "Digite el valor de x1: 5\n",
            "Digite el valor de x2: 4\n",
            "Digite el valor de y1: 7\n",
            "Digite el valor de y2: 7\n",
            "El valor de la distancia entre dos puntos es de:  1.0\n"
          ]
        }
      ]
    }
  ]
}